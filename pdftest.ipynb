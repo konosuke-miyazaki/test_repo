{
 "cells": [
  {
   "cell_type": "code",
   "execution_count": 3,
   "metadata": {},
   "outputs": [
    {
     "ename": "IndentationError",
     "evalue": "unexpected indent (<ipython-input-3-97c27c640b44>, line 2)",
     "output_type": "error",
     "traceback": [
      "\u001b[0;36m  File \u001b[0;32m\"<ipython-input-3-97c27c640b44>\"\u001b[0;36m, line \u001b[0;32m2\u001b[0m\n\u001b[0;31m    text = '''\u001b[0m\n\u001b[0m    ^\u001b[0m\n\u001b[0;31mIndentationError\u001b[0m\u001b[0;31m:\u001b[0m unexpected indent\n"
     ]
    }
   ],
   "source": [
    "import markdown\n",
    "    text = '''\n",
    "     # ウサギについて\n",
    "     全身が柔らかい体毛で覆われている小型獣である。\n",
    "     '''\n",
    "     md = markdown.Markdown() # ---(*1)\n",
    "     html = md.convert(text) # ---(*2)\n",
    "     print(html)"
   ]
  },
  {
   "cell_type": "code",
   "execution_count": 9,
   "metadata": {},
   "outputs": [
    {
     "name": "stdout",
     "output_type": "stream",
     "text": [
      "<h1>うさぎ</h1>\n",
      "<p>可愛い</p>\n"
     ]
    }
   ],
   "source": [
    "import markdown\n",
    "text = '''\n",
    "# うさぎ\n",
    "可愛い\n",
    "'''\n",
    "md = markdown.Markdown() # ---(*1)\n",
    "html = md.convert(text) # ---(*2)\n",
    "print(html)"
   ]
  },
  {
   "cell_type": "code",
   "execution_count": 2,
   "metadata": {},
   "outputs": [
    {
     "name": "stdout",
     "output_type": "stream",
     "text": [
      "Loading pages (1/6)\n",
      "[>                                                           ] 0%\r",
      "[======>                                                     ] 10%\r",
      "[==============================>                             ] 50%\r",
      "[============================================================] 100%\r",
      "Counting pages (2/6)                                               \n",
      "[============================================================] Object 1 of 1\r",
      "Resolving links (4/6)                                                       \n",
      "[============================================================] Object 1 of 1\r",
      "Loading headers and footers (5/6)                                           \n",
      "Printing pages (6/6)\n",
      "[>                                                           ] Preparing\r",
      "[===============>                                            ] Page 1 of 4\r",
      "[==============================>                             ] Page 2 of 4\r",
      "[=============================================>              ] Page 3 of 4\r",
      "[============================================================] Page 4 of 4\r",
      "Done                                                                      \n"
     ]
    },
    {
     "data": {
      "text/plain": [
       "True"
      ]
     },
     "execution_count": 2,
     "metadata": {},
     "output_type": "execute_result"
    }
   ],
   "source": [
    "import markdown\n",
    "import pdfkit\n",
    "\n",
    "text = '''\n",
    "### 見出し\n",
    "\n",
    "Markdownを使ってみよう\n",
    "============\n",
    "\n",
    "Markdonwとは？\n",
    "------------\n",
    "\n",
    "### 引用\n",
    "\n",
    ">Markdown（マークダウン）は、文書を記述するための軽量マークアップ言語のひとつである。\n",
    ">本来はプレーンテキスト形式で手軽に書いた文書からHTMLを生成するために開発されたものである。\n",
    ">しかし、現在ではHTMLのほかパワーポイント形式やLATEX形式のファイルへ変換する\n",
    ">ソフトウェア（コンバータ）も開発されている。\n",
    ">各コンバータの開発者によって多様な拡張が施されるため、各種の方言が存在する。\n",
    "'''\n",
    "\n",
    "md = markdown.Markdown()\n",
    "body = md.convert(text)\n",
    "html = '<html lang=\"ja\"><meta charset=\"utf-8\"><body>'\n",
    "html += '<style> body { font-size: 8em; } </style>'\n",
    "html += body + '</body></html>'\n",
    "pdfkit.from_string(html, \"test2.pdf\")"
   ]
  },
  {
   "cell_type": "code",
   "execution_count": null,
   "metadata": {},
   "outputs": [],
   "source": []
  }
 ],
 "metadata": {
  "kernelspec": {
   "display_name": "Python 3",
   "language": "python",
   "name": "python3"
  },
  "language_info": {
   "codemirror_mode": {
    "name": "ipython",
    "version": 3
   },
   "file_extension": ".py",
   "mimetype": "text/x-python",
   "name": "python",
   "nbconvert_exporter": "python",
   "pygments_lexer": "ipython3",
   "version": "3.7.2"
  }
 },
 "nbformat": 4,
 "nbformat_minor": 2
}
