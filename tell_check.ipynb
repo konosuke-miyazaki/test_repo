{
 "cells": [
  {
   "cell_type": "code",
   "execution_count": 1,
   "metadata": {},
   "outputs": [
    {
     "name": "stdout",
     "output_type": "stream",
     "text": [
      "電話番号が見つかりました415-555-1011\n",
      "電話番号が見つかりました152-222-9898\n",
      "end\n"
     ]
    }
   ],
   "source": [
    "def is_phone_number(text):\n",
    "    if len(text) != 12:\n",
    "        return False\n",
    "    for i in range(0, 3):\n",
    "        if not text[i].isdecimal():\n",
    "            return False\n",
    "    if text[3] != '-':\n",
    "        return False\n",
    "    for i in range(4, 7):\n",
    "        if not text[i].isdecimal():\n",
    "            return False\n",
    "    if text[7] != '-':\n",
    "        return False\n",
    "    for i in range(8, 12):\n",
    "        if not text[i].isdecimal():\n",
    "            return False\n",
    "    return True\n",
    "\n",
    "message = '明日、415-555-1011に電話して下さい。オフィスは152-222-9898です。'\n",
    "for i in range(len(message)):\n",
    "    chunk = message[i:i+12]\n",
    "    if is_phone_number(chunk):\n",
    "        print('電話番号が見つかりました' + chunk)\n",
    "print('end')"
   ]
  },
  {
   "cell_type": "code",
   "execution_count": null,
   "metadata": {},
   "outputs": [],
   "source": []
  }
 ],
 "metadata": {
  "kernelspec": {
   "display_name": "Python 3",
   "language": "python",
   "name": "python3"
  },
  "language_info": {
   "codemirror_mode": {
    "name": "ipython",
    "version": 3
   },
   "file_extension": ".py",
   "mimetype": "text/x-python",
   "name": "python",
   "nbconvert_exporter": "python",
   "pygments_lexer": "ipython3",
   "version": "3.7.2"
  }
 },
 "nbformat": 4,
 "nbformat_minor": 2
}
