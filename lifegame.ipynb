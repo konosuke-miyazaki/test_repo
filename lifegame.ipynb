{
 "cells": [
  {
   "cell_type": "code",
   "execution_count": 10,
   "metadata": {},
   "outputs": [],
   "source": [
    " from random import randint\n",
    " from tkinter import *\n",
    "\n",
    " # 変数・定数の定義 --- (*1)\n",
    " COLS, ROWS = [30, 20] # ステージのサイズを定義\n",
    " CW = 20 # セルの描画サイズ\n",
    " data = [] # ステージデータ\n",
    " for y in range(0, ROWS): # ステージをランダムに初期化\n",
    "     data.append([(randint(0, 9) == 0) for x in range(0, COLS)])\n",
    "\n",
    " # ライフゲームのルールを実装したもの --- (*2)\n",
    " def check(x, y):\n",
    "     # 周囲の生存セルを数える\n",
    "     cnt = 0\n",
    "     tbl = [(-1, -1), (0, -1), (1, -1), (1, 0), (1, 1), (0, 1), (-1, 1), (-1, 0)]\n",
    "     for t in tbl:\n",
    "         xx, yy = [x + t[0], y + t[1]]\n",
    "         if 0 <= xx < COLS and 0 <= yy < ROWS:\n",
    "             if data[yy][xx]: cnt += 1\n",
    "     # ルールに沿って次世代の生死を決める\n",
    "     if cnt == 3: return True # 誕生\n",
    "     if data[y][x]:\n",
    "         if 2 <= cnt <= 3: return True # 生存\n",
    "         return False # 過疎 or 過密\n",
    "     return data[y][x]\n",
    "\n",
    " # データを次の世代に進める --- (*3)\n",
    " def next_turn():\n",
    "     global data\n",
    "     data2 = []\n",
    "     for y in range(0, ROWS):\n",
    "         data2.append([check(x, y) for x in range(0, COLS)])\n",
    "     data = data2 # データの内容を次の世代へ差し替え\n",
    "\n",
    " # 画面を構築 --- (*4)\n",
    " win = Tk() # ウィンドウを作成\n",
    " cv = Canvas(win, width = 600, height = 400) # キャンバスを作成\n",
    " cv.pack()\n",
    "\n",
    " # ステージを描画 --- (*5)\n",
    " def draw_stage():\n",
    "     cv.delete('all') # 既存の描画内容を破棄\n",
    "     for y in range(0, ROWS):\n",
    "         for x in range(0, COLS):\n",
    "             if not data[y][x]: continue\n",
    "             x1, y1 = [x * CW, y * CW]\n",
    "             cv.create_oval(x1, y1, x1 + CW, y1 + CW,\n",
    "                 fill=\"red\", width=0) # 生きているセルを描画\n",
    "\n",
    " # 300ミリ秒ごとに世代を進める --- (*6)\n",
    " def game_loop():\n",
    "     next_turn() # 世代を進める\n",
    "     draw_stage() # ステージを描画\n",
    "     win.after(300, game_loop) # 指定時間後に再度描画\n",
    "\n",
    " game_loop() # ゲームループを実行\n",
    " win.mainloop() # イベントループ"
   ]
  },
  {
   "cell_type": "code",
   "execution_count": null,
   "metadata": {},
   "outputs": [],
   "source": []
  },
  {
   "cell_type": "code",
   "execution_count": null,
   "metadata": {},
   "outputs": [],
   "source": []
  }
 ],
 "metadata": {
  "kernelspec": {
   "display_name": "Python 3",
   "language": "python",
   "name": "python3"
  },
  "language_info": {
   "codemirror_mode": {
    "name": "ipython",
    "version": 3
   },
   "file_extension": ".py",
   "mimetype": "text/x-python",
   "name": "python",
   "nbconvert_exporter": "python",
   "pygments_lexer": "ipython3",
   "version": "3.7.2"
  }
 },
 "nbformat": 4,
 "nbformat_minor": 2
}
